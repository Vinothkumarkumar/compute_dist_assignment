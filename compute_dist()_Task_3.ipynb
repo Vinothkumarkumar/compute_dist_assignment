{
  "nbformat": 4,
  "nbformat_minor": 0,
  "metadata": {
    "colab": {
      "name": "compute_dist()_Task_3.ipynb",
      "provenance": [],
      "collapsed_sections": [],
      "authorship_tag": "ABX9TyPlnzMrUVVI/EKIU6inRC2o",
      "include_colab_link": true
    },
    "kernelspec": {
      "name": "python3",
      "display_name": "Python 3"
    },
    "language_info": {
      "name": "python"
    }
  },
  "cells": [
    {
      "cell_type": "markdown",
      "metadata": {
        "id": "view-in-github",
        "colab_type": "text"
      },
      "source": [
        "<a href=\"https://colab.research.google.com/github/Vinothkumarkumar/compute_dist_assignment/blob/main/compute_dist()_Task_3.ipynb\" target=\"_parent\"><img src=\"https://colab.research.google.com/assets/colab-badge.svg\" alt=\"Open In Colab\"/></a>"
      ]
    },
    {
      "cell_type": "code",
      "execution_count": 75,
      "metadata": {
        "colab": {
          "base_uri": "https://localhost:8080/"
        },
        "id": "5dLQxxxfvKLQ",
        "outputId": "1e53fb91-681f-4328-ce97-4094c9fd5abe"
      },
      "outputs": [
        {
          "output_type": "stream",
          "name": "stdout",
          "text": [
            "Final Dictionary {1: 2, 2: 2, 3: 2, 4: 3, 5: 1}\n"
          ]
        }
      ],
      "source": [
        "def compute_dist(l1):\n",
        "  l1.sort()\n",
        "  dictionary = {}\n",
        "  for i in l1[:]:\n",
        "    if i not in dictionary:\n",
        "      dictionary[i] = l1.count(i)\n",
        "  print(\"Final Dictionary\", dictionary)\n",
        "\n",
        "l1 = [3, 4, 2, 1, 5, 1, 2, 4, 3, 4]\n",
        "compute_dist(l1)"
      ]
    },
    {
      "cell_type": "code",
      "source": [],
      "metadata": {
        "id": "_ADyLzmtjaMp"
      },
      "execution_count": null,
      "outputs": []
    }
  ]
}